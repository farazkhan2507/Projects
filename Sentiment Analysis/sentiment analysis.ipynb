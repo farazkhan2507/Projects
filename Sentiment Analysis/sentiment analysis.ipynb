{
 "cells": [
  {
   "cell_type": "code",
   "execution_count": 1,
   "id": "188041d3",
   "metadata": {},
   "outputs": [
    {
     "name": "stdout",
     "output_type": "stream",
     "text": [
      "Requirement already satisfied: pip in c:\\users\\hp\\appdata\\local\\programs\\python\\python310\\lib\\site-packages (23.0.1)\n",
      "Collecting scikit-learn\n",
      "  Downloading scikit_learn-1.2.2-cp310-cp310-win_amd64.whl (8.3 MB)\n",
      "     ---------------------------------------- 8.3/8.3 MB 10.4 MB/s eta 0:00:00\n",
      "Collecting threadpoolctl>=2.0.0\n",
      "  Downloading threadpoolctl-3.1.0-py3-none-any.whl (14 kB)\n",
      "Requirement already satisfied: numpy>=1.17.3 in c:\\users\\hp\\appdata\\local\\programs\\python\\python310\\lib\\site-packages (from scikit-learn) (1.23.5)\n",
      "Requirement already satisfied: scipy>=1.3.2 in c:\\users\\hp\\appdata\\local\\programs\\python\\python310\\lib\\site-packages (from scikit-learn) (1.9.3)\n",
      "Collecting joblib>=1.1.1\n",
      "  Downloading joblib-1.2.0-py3-none-any.whl (297 kB)\n",
      "     ------------------------------------- 298.0/298.0 kB 18.0 MB/s eta 0:00:00\n",
      "Installing collected packages: threadpoolctl, joblib, scikit-learn\n",
      "  Attempting uninstall: joblib\n",
      "    Found existing installation: joblib 1.1.0\n",
      "    Uninstalling joblib-1.1.0:\n",
      "      Successfully uninstalled joblib-1.1.0\n",
      "Successfully installed joblib-1.2.0 scikit-learn-1.2.2 threadpoolctl-3.1.0\n"
     ]
    }
   ],
   "source": [
    "!pip install --upgrade pip\n",
    "!pip install -U scikit-learn"
   ]
  },
  {
   "cell_type": "code",
   "execution_count": 2,
   "id": "43aea611",
   "metadata": {},
   "outputs": [],
   "source": [
    "import numpy as np\n",
    "import pandas as pd\n",
    "import seaborn as sns\n",
    "import matplotlib.pyplot as plt\n",
    "%matplotlib inline\n",
    "import warnings, string\n",
    "warnings.filterwarnings('ignore')\n",
    "from sklearn.model_selection import train_test_split\n",
    "import nltk\n",
    "from nltk.corpus import stopwords\n",
    "from sklearn.feature_extraction.text import CountVectorizer, TfidfTransformer\n",
    "from sklearn.naive_bayes import MultinomialNB\n",
    "from sklearn.pipeline import Pipeline\n",
    "from sklearn.ensemble import RandomForestClassifier\n",
    "from sklearn.tree import DecisionTreeClassifier\n",
    "from sklearn.linear_model import LogisticRegression"
   ]
  },
  {
   "cell_type": "code",
   "execution_count": 3,
   "id": "9609668d",
   "metadata": {},
   "outputs": [
    {
     "data": {
      "text/html": [
       "<div>\n",
       "<style scoped>\n",
       "    .dataframe tbody tr th:only-of-type {\n",
       "        vertical-align: middle;\n",
       "    }\n",
       "\n",
       "    .dataframe tbody tr th {\n",
       "        vertical-align: top;\n",
       "    }\n",
       "\n",
       "    .dataframe thead th {\n",
       "        text-align: right;\n",
       "    }\n",
       "</style>\n",
       "<table border=\"1\" class=\"dataframe\">\n",
       "  <thead>\n",
       "    <tr style=\"text-align: right;\">\n",
       "      <th></th>\n",
       "      <th>Unnamed: 0</th>\n",
       "      <th>Unnamed: 0.1</th>\n",
       "      <th>reviewId</th>\n",
       "      <th>userName</th>\n",
       "      <th>userImage</th>\n",
       "      <th>content</th>\n",
       "      <th>score</th>\n",
       "      <th>thumbsUpCount</th>\n",
       "      <th>reviewCreatedVersion</th>\n",
       "      <th>at</th>\n",
       "      <th>replyContent</th>\n",
       "      <th>repliedAt</th>\n",
       "      <th>text_</th>\n",
       "    </tr>\n",
       "  </thead>\n",
       "  <tbody>\n",
       "    <tr>\n",
       "      <th>0</th>\n",
       "      <td>0</td>\n",
       "      <td>0</td>\n",
       "      <td>458b5835-6a01-43cc-9d18-725441a5950d</td>\n",
       "      <td>Shubham Zain</td>\n",
       "      <td>https://play-lh.googleusercontent.com/a-/ACB-R...</td>\n",
       "      <td>ok</td>\n",
       "      <td>5</td>\n",
       "      <td>0</td>\n",
       "      <td>14.2.0</td>\n",
       "      <td>2023-02-24 14:18:13</td>\n",
       "      <td>NaN</td>\n",
       "      <td>NaN</td>\n",
       "      <td>ok</td>\n",
       "    </tr>\n",
       "    <tr>\n",
       "      <th>1</th>\n",
       "      <td>1</td>\n",
       "      <td>1</td>\n",
       "      <td>c73c77f3-9c1e-4bb6-98e7-185935d2b73b</td>\n",
       "      <td>Raphael Ritho</td>\n",
       "      <td>https://play-lh.googleusercontent.com/a/AGNmyx...</td>\n",
       "      <td>Good</td>\n",
       "      <td>5</td>\n",
       "      <td>0</td>\n",
       "      <td>NaN</td>\n",
       "      <td>2023-02-24 13:08:45</td>\n",
       "      <td>NaN</td>\n",
       "      <td>NaN</td>\n",
       "      <td>good</td>\n",
       "    </tr>\n",
       "    <tr>\n",
       "      <th>2</th>\n",
       "      <td>2</td>\n",
       "      <td>2</td>\n",
       "      <td>ef636656-b2e7-44bc-a2c1-b34b2f018672</td>\n",
       "      <td>Zhavia Fernando</td>\n",
       "      <td>https://play-lh.googleusercontent.com/a/AGNmyx...</td>\n",
       "      <td>social sya</td>\n",
       "      <td>5</td>\n",
       "      <td>0</td>\n",
       "      <td>14.3.0</td>\n",
       "      <td>2023-02-24 12:16:06</td>\n",
       "      <td>NaN</td>\n",
       "      <td>NaN</td>\n",
       "      <td>social sya</td>\n",
       "    </tr>\n",
       "    <tr>\n",
       "      <th>3</th>\n",
       "      <td>3</td>\n",
       "      <td>3</td>\n",
       "      <td>f0305cde-94af-4559-a1ca-55a222a1559a</td>\n",
       "      <td>bereketab folla</td>\n",
       "      <td>https://play-lh.googleusercontent.com/a-/ACB-R...</td>\n",
       "      <td>nice</td>\n",
       "      <td>5</td>\n",
       "      <td>0</td>\n",
       "      <td>14.2.0</td>\n",
       "      <td>2023-02-24 12:02:25</td>\n",
       "      <td>NaN</td>\n",
       "      <td>NaN</td>\n",
       "      <td>nice</td>\n",
       "    </tr>\n",
       "    <tr>\n",
       "      <th>4</th>\n",
       "      <td>4</td>\n",
       "      <td>4</td>\n",
       "      <td>4cfeea86-10e4-47a4-a551-54978978524b</td>\n",
       "      <td>Mahmoud Elfeky</td>\n",
       "      <td>https://play-lh.googleusercontent.com/a-/ACB-R...</td>\n",
       "      <td>great app</td>\n",
       "      <td>5</td>\n",
       "      <td>0</td>\n",
       "      <td>14.2.0</td>\n",
       "      <td>2023-02-24 08:58:58</td>\n",
       "      <td>NaN</td>\n",
       "      <td>NaN</td>\n",
       "      <td>great app</td>\n",
       "    </tr>\n",
       "  </tbody>\n",
       "</table>\n",
       "</div>"
      ],
      "text/plain": [
       "   Unnamed: 0  Unnamed: 0.1                              reviewId  \\\n",
       "0           0             0  458b5835-6a01-43cc-9d18-725441a5950d   \n",
       "1           1             1  c73c77f3-9c1e-4bb6-98e7-185935d2b73b   \n",
       "2           2             2  ef636656-b2e7-44bc-a2c1-b34b2f018672   \n",
       "3           3             3  f0305cde-94af-4559-a1ca-55a222a1559a   \n",
       "4           4             4  4cfeea86-10e4-47a4-a551-54978978524b   \n",
       "\n",
       "          userName                                          userImage  \\\n",
       "0     Shubham Zain  https://play-lh.googleusercontent.com/a-/ACB-R...   \n",
       "1    Raphael Ritho  https://play-lh.googleusercontent.com/a/AGNmyx...   \n",
       "2  Zhavia Fernando  https://play-lh.googleusercontent.com/a/AGNmyx...   \n",
       "3  bereketab folla  https://play-lh.googleusercontent.com/a-/ACB-R...   \n",
       "4   Mahmoud Elfeky  https://play-lh.googleusercontent.com/a-/ACB-R...   \n",
       "\n",
       "      content  score  thumbsUpCount reviewCreatedVersion                   at  \\\n",
       "0          ok      5              0               14.2.0  2023-02-24 14:18:13   \n",
       "1        Good      5              0                  NaN  2023-02-24 13:08:45   \n",
       "2  social sya      5              0               14.3.0  2023-02-24 12:16:06   \n",
       "3        nice      5              0               14.2.0  2023-02-24 12:02:25   \n",
       "4   great app      5              0               14.2.0  2023-02-24 08:58:58   \n",
       "\n",
       "  replyContent repliedAt       text_  \n",
       "0          NaN       NaN          ok  \n",
       "1          NaN       NaN        good  \n",
       "2          NaN       NaN  social sya  \n",
       "3          NaN       NaN        nice  \n",
       "4          NaN       NaN   great app  "
      ]
     },
     "execution_count": 3,
     "metadata": {},
     "output_type": "execute_result"
    }
   ],
   "source": [
    "\n",
    "df = pd.read_csv('Preprocessed Fake Reviews Detection Dataset.csv')\n",
    "df.head()"
   ]
  },
  {
   "cell_type": "code",
   "execution_count": 4,
   "id": "0fd43143",
   "metadata": {},
   "outputs": [],
   "source": [
    "df.content=df.content.astype(str)"
   ]
  },
  {
   "cell_type": "code",
   "execution_count": 5,
   "id": "f6a01495",
   "metadata": {},
   "outputs": [
    {
     "data": {
      "text/plain": [
       "0                                                        ok\n",
       "1                                                      Good\n",
       "2                                                social sya\n",
       "3                                                      nice\n",
       "4                                                 great app\n",
       "                                ...                        \n",
       "196703    Wouldnt connect, but after a reinstall works p...\n",
       "196704                                                   Ok\n",
       "196705    I've been wishing for this for so long and its...\n",
       "196706                     Best app ever finally on android\n",
       "196707                Finally the real Tinder is on Android\n",
       "Name: content, Length: 196708, dtype: object"
      ]
     },
     "execution_count": 5,
     "metadata": {},
     "output_type": "execute_result"
    }
   ],
   "source": [
    "df.content"
   ]
  },
  {
   "cell_type": "code",
   "execution_count": 6,
   "id": "f3ed30f2",
   "metadata": {},
   "outputs": [],
   "source": [
    "def fixContra(text):\n",
    "    return contractions.fix(text)\n"
   ]
  },
  {
   "cell_type": "code",
   "execution_count": 7,
   "id": "3d172e0d",
   "metadata": {},
   "outputs": [
    {
     "name": "stdout",
     "output_type": "stream",
     "text": [
      "Requirement already satisfied: contractions in c:\\users\\hp\\appdata\\local\\programs\\python\\python39\\lib\\site-packages (0.1.73)\n",
      "Requirement already satisfied: textsearch>=0.0.21 in c:\\users\\hp\\appdata\\local\\programs\\python\\python39\\lib\\site-packages (from contractions) (0.0.24)\n",
      "Requirement already satisfied: anyascii in c:\\users\\hp\\appdata\\local\\programs\\python\\python39\\lib\\site-packages (from textsearch>=0.0.21->contractions) (0.3.1)\n",
      "Requirement already satisfied: pyahocorasick in c:\\users\\hp\\appdata\\local\\programs\\python\\python39\\lib\\site-packages (from textsearch>=0.0.21->contractions) (2.0.0)\n",
      "Note: you may need to restart the kernel to use updated packages.\n"
     ]
    },
    {
     "name": "stderr",
     "output_type": "stream",
     "text": [
      "\n",
      "[notice] A new release of pip is available: 23.0.1 -> 23.1.2\n",
      "[notice] To update, run: c:\\users\\hp\\appdata\\local\\programs\\python\\python39\\python.exe -m pip install --upgrade pip\n"
     ]
    }
   ],
   "source": [
    "pip install contractions\n"
   ]
  },
  {
   "cell_type": "code",
   "execution_count": 8,
   "id": "0d545f34",
   "metadata": {},
   "outputs": [],
   "source": [
    "import contractions"
   ]
  },
  {
   "cell_type": "code",
   "execution_count": 23,
   "id": "75f203af",
   "metadata": {},
   "outputs": [
    {
     "name": "stdout",
     "output_type": "stream",
     "text": [
      "Requirement already satisfied: nltk in c:\\users\\hp\\appdata\\local\\programs\\python\\python39\\lib\\site-packages (3.8.1)\n",
      "Requirement already satisfied: click in c:\\users\\hp\\appdata\\local\\programs\\python\\python39\\lib\\site-packages (from nltk) (8.1.3)\n",
      "Requirement already satisfied: joblib in c:\\users\\hp\\appdata\\local\\programs\\python\\python39\\lib\\site-packages (from nltk) (1.1.0)\n",
      "Requirement already satisfied: regex>=2021.8.3 in c:\\users\\hp\\appdata\\local\\programs\\python\\python39\\lib\\site-packages (from nltk) (2022.10.31)\n",
      "Requirement already satisfied: tqdm in c:\\users\\hp\\appdata\\local\\programs\\python\\python39\\lib\\site-packages (from nltk) (4.64.1)\n",
      "Requirement already satisfied: colorama in c:\\users\\hp\\appdata\\local\\programs\\python\\python39\\lib\\site-packages (from click->nltk) (0.4.4)\n",
      "Note: you may need to restart the kernel to use updated packages.\n"
     ]
    }
   ],
   "source": [
    "pip install nltk"
   ]
  },
  {
   "cell_type": "code",
   "execution_count": 24,
   "id": "d5e642f4",
   "metadata": {},
   "outputs": [
    {
     "name": "stderr",
     "output_type": "stream",
     "text": [
      "[nltk_data] Error loading popular: <urlopen error [WinError 10060] A\n",
      "[nltk_data]     connection attempt failed because the connected party\n",
      "[nltk_data]     did not properly respond after a period of time, or\n",
      "[nltk_data]     established connection failed because connected host\n",
      "[nltk_data]     has failed to respond>\n"
     ]
    }
   ],
   "source": [
    "#Feature Extraction Imports\n",
    "\n",
    "#Sentiment\n",
    "from textblob import TextBlob\n",
    "\n",
    "#POS Tagging\n",
    "import nltk\n",
    "nltk.download(\"popular\")\n",
    "from nltk import FreqDist\n",
    "from nltk.corpus import stopwords \n",
    "from nltk.tokenize import word_tokenize, sent_tokenize \n",
    "from collections import Counter\n",
    "stop_words = set(stopwords.words('english')) \n",
    "import re\n",
    "\n",
    "#Text Feature Generation\n",
    "import string"
   ]
  },
  {
   "cell_type": "code",
   "execution_count": 25,
   "id": "ee63f0e8",
   "metadata": {},
   "outputs": [],
   "source": [
    "df['content'] = df['content'].apply(lambda x: fixContra(x))"
   ]
  },
  {
   "cell_type": "code",
   "execution_count": 26,
   "id": "43fd449c",
   "metadata": {},
   "outputs": [],
   "source": [
    "df['content'] = df['content'].str.replace('\\W', ' ')\n"
   ]
  },
  {
   "cell_type": "code",
   "execution_count": 27,
   "id": "572c77b2",
   "metadata": {},
   "outputs": [],
   "source": [
    "\n",
    "# \\d represents Numeric digits\n",
    "df['content'] = df['content'].str.replace('\\d', ' ')"
   ]
  },
  {
   "cell_type": "code",
   "execution_count": 28,
   "id": "5ac7c39d",
   "metadata": {},
   "outputs": [],
   "source": [
    "df['content'] = df['content'].str.lower()"
   ]
  },
  {
   "cell_type": "code",
   "execution_count": 29,
   "id": "2e4b0a3c",
   "metadata": {},
   "outputs": [],
   "source": [
    "reviews = df['content'].tolist()\n",
    "#print(reviews)\n",
    "sentiment_score = []\n",
    "sentiment_subjectivity=[]\n",
    "review_head_sentiment=[]\n",
    "for rev in reviews:\n",
    "    testimonial = TextBlob(rev)\n",
    "    sentiment_score.append(testimonial.sentiment.polarity)\n",
    "    sentiment_subjectivity.append(testimonial.sentiment.subjectivity)"
   ]
  },
  {
   "cell_type": "code",
   "execution_count": 30,
   "id": "2262892b",
   "metadata": {},
   "outputs": [
    {
     "data": {
      "text/html": [
       "<div>\n",
       "<style scoped>\n",
       "    .dataframe tbody tr th:only-of-type {\n",
       "        vertical-align: middle;\n",
       "    }\n",
       "\n",
       "    .dataframe tbody tr th {\n",
       "        vertical-align: top;\n",
       "    }\n",
       "\n",
       "    .dataframe thead th {\n",
       "        text-align: right;\n",
       "    }\n",
       "</style>\n",
       "<table border=\"1\" class=\"dataframe\">\n",
       "  <thead>\n",
       "    <tr style=\"text-align: right;\">\n",
       "      <th></th>\n",
       "      <th>Unnamed: 0</th>\n",
       "      <th>Unnamed: 0.1</th>\n",
       "      <th>reviewId</th>\n",
       "      <th>userName</th>\n",
       "      <th>userImage</th>\n",
       "      <th>content</th>\n",
       "      <th>score</th>\n",
       "      <th>thumbsUpCount</th>\n",
       "      <th>reviewCreatedVersion</th>\n",
       "      <th>at</th>\n",
       "      <th>replyContent</th>\n",
       "      <th>repliedAt</th>\n",
       "      <th>text_</th>\n",
       "      <th>Sentiment</th>\n",
       "      <th>Subjectivity</th>\n",
       "    </tr>\n",
       "  </thead>\n",
       "  <tbody>\n",
       "    <tr>\n",
       "      <th>0</th>\n",
       "      <td>0</td>\n",
       "      <td>0</td>\n",
       "      <td>458b5835-6a01-43cc-9d18-725441a5950d</td>\n",
       "      <td>Shubham Zain</td>\n",
       "      <td>https://play-lh.googleusercontent.com/a-/ACB-R...</td>\n",
       "      <td>ok</td>\n",
       "      <td>5</td>\n",
       "      <td>0</td>\n",
       "      <td>14.2.0</td>\n",
       "      <td>2023-02-24 14:18:13</td>\n",
       "      <td>NaN</td>\n",
       "      <td>NaN</td>\n",
       "      <td>ok</td>\n",
       "      <td>0.500000</td>\n",
       "      <td>0.500000</td>\n",
       "    </tr>\n",
       "    <tr>\n",
       "      <th>1</th>\n",
       "      <td>1</td>\n",
       "      <td>1</td>\n",
       "      <td>c73c77f3-9c1e-4bb6-98e7-185935d2b73b</td>\n",
       "      <td>Raphael Ritho</td>\n",
       "      <td>https://play-lh.googleusercontent.com/a/AGNmyx...</td>\n",
       "      <td>good</td>\n",
       "      <td>5</td>\n",
       "      <td>0</td>\n",
       "      <td>NaN</td>\n",
       "      <td>2023-02-24 13:08:45</td>\n",
       "      <td>NaN</td>\n",
       "      <td>NaN</td>\n",
       "      <td>good</td>\n",
       "      <td>0.700000</td>\n",
       "      <td>0.600000</td>\n",
       "    </tr>\n",
       "    <tr>\n",
       "      <th>2</th>\n",
       "      <td>2</td>\n",
       "      <td>2</td>\n",
       "      <td>ef636656-b2e7-44bc-a2c1-b34b2f018672</td>\n",
       "      <td>Zhavia Fernando</td>\n",
       "      <td>https://play-lh.googleusercontent.com/a/AGNmyx...</td>\n",
       "      <td>social sya</td>\n",
       "      <td>5</td>\n",
       "      <td>0</td>\n",
       "      <td>14.3.0</td>\n",
       "      <td>2023-02-24 12:16:06</td>\n",
       "      <td>NaN</td>\n",
       "      <td>NaN</td>\n",
       "      <td>social sya</td>\n",
       "      <td>0.033333</td>\n",
       "      <td>0.066667</td>\n",
       "    </tr>\n",
       "    <tr>\n",
       "      <th>3</th>\n",
       "      <td>3</td>\n",
       "      <td>3</td>\n",
       "      <td>f0305cde-94af-4559-a1ca-55a222a1559a</td>\n",
       "      <td>bereketab folla</td>\n",
       "      <td>https://play-lh.googleusercontent.com/a-/ACB-R...</td>\n",
       "      <td>nice</td>\n",
       "      <td>5</td>\n",
       "      <td>0</td>\n",
       "      <td>14.2.0</td>\n",
       "      <td>2023-02-24 12:02:25</td>\n",
       "      <td>NaN</td>\n",
       "      <td>NaN</td>\n",
       "      <td>nice</td>\n",
       "      <td>0.600000</td>\n",
       "      <td>1.000000</td>\n",
       "    </tr>\n",
       "    <tr>\n",
       "      <th>4</th>\n",
       "      <td>4</td>\n",
       "      <td>4</td>\n",
       "      <td>4cfeea86-10e4-47a4-a551-54978978524b</td>\n",
       "      <td>Mahmoud Elfeky</td>\n",
       "      <td>https://play-lh.googleusercontent.com/a-/ACB-R...</td>\n",
       "      <td>great app</td>\n",
       "      <td>5</td>\n",
       "      <td>0</td>\n",
       "      <td>14.2.0</td>\n",
       "      <td>2023-02-24 08:58:58</td>\n",
       "      <td>NaN</td>\n",
       "      <td>NaN</td>\n",
       "      <td>great app</td>\n",
       "      <td>0.800000</td>\n",
       "      <td>0.750000</td>\n",
       "    </tr>\n",
       "  </tbody>\n",
       "</table>\n",
       "</div>"
      ],
      "text/plain": [
       "   Unnamed: 0  Unnamed: 0.1                              reviewId  \\\n",
       "0           0             0  458b5835-6a01-43cc-9d18-725441a5950d   \n",
       "1           1             1  c73c77f3-9c1e-4bb6-98e7-185935d2b73b   \n",
       "2           2             2  ef636656-b2e7-44bc-a2c1-b34b2f018672   \n",
       "3           3             3  f0305cde-94af-4559-a1ca-55a222a1559a   \n",
       "4           4             4  4cfeea86-10e4-47a4-a551-54978978524b   \n",
       "\n",
       "          userName                                          userImage  \\\n",
       "0     Shubham Zain  https://play-lh.googleusercontent.com/a-/ACB-R...   \n",
       "1    Raphael Ritho  https://play-lh.googleusercontent.com/a/AGNmyx...   \n",
       "2  Zhavia Fernando  https://play-lh.googleusercontent.com/a/AGNmyx...   \n",
       "3  bereketab folla  https://play-lh.googleusercontent.com/a-/ACB-R...   \n",
       "4   Mahmoud Elfeky  https://play-lh.googleusercontent.com/a-/ACB-R...   \n",
       "\n",
       "      content  score  thumbsUpCount reviewCreatedVersion                   at  \\\n",
       "0          ok      5              0               14.2.0  2023-02-24 14:18:13   \n",
       "1        good      5              0                  NaN  2023-02-24 13:08:45   \n",
       "2  social sya      5              0               14.3.0  2023-02-24 12:16:06   \n",
       "3        nice      5              0               14.2.0  2023-02-24 12:02:25   \n",
       "4   great app      5              0               14.2.0  2023-02-24 08:58:58   \n",
       "\n",
       "  replyContent repliedAt       text_  Sentiment  Subjectivity  \n",
       "0          NaN       NaN          ok   0.500000      0.500000  \n",
       "1          NaN       NaN        good   0.700000      0.600000  \n",
       "2          NaN       NaN  social sya   0.033333      0.066667  \n",
       "3          NaN       NaN        nice   0.600000      1.000000  \n",
       "4          NaN       NaN   great app   0.800000      0.750000  "
      ]
     },
     "execution_count": 30,
     "metadata": {},
     "output_type": "execute_result"
    }
   ],
   "source": [
    "df['Sentiment'] = sentiment_score\n",
    "df['Subjectivity'] = sentiment_subjectivity\n",
    "df.head()"
   ]
  },
  {
   "cell_type": "code",
   "execution_count": 34,
   "id": "50769067",
   "metadata": {},
   "outputs": [
    {
     "data": {
      "image/png": "[encoded data removed]",
      "text/plain": [
       "<Figure size 720x504 with 1 Axes>"
      ]
     },
     "metadata": {},
     "output_type": "display_data"
    }
   ],
   "source": [
    "pos = 0\n",
    "neg = 0\n",
    "neu = 0\n",
    "for score in df['Sentiment']:\n",
    "    if score > 0:\n",
    "        pos += 1\n",
    "    elif score < 0:\n",
    "        neg += 1\n",
    "    else: \n",
    "        neu += 1\n",
    "\n",
    "#Visualiing the distribution of Sentiment\n",
    "values = [pos, neg, neu]\n",
    "label = ['Positive Reviews', 'Negative Reviews', 'neutral reviews']\n",
    "\n",
    "fig = plt.figure(figsize =(10, 7)) \n",
    "plt.pie(values, labels = label,autopct='%1.1f%%')\n",
    "\n",
    "plt.show()"
   ]
  },
  {
   "cell_type": "code",
   "execution_count": null,
   "id": "72dcb19e",
   "metadata": {},
   "outputs": [],
   "source": []
  }
 ],
 "metadata": {
  "kernelspec": {
   "display_name": "Python 3 (ipykernel)",
   "language": "python",
   "name": "python3"
  },
  "language_info": {
   "codemirror_mode": {
    "name": "ipython",
    "version": 3
   },
   "file_extension": ".py",
   "mimetype": "text/x-python",
   "name": "python",
   "nbconvert_exporter": "python",
   "pygments_lexer": "ipython3",
   "version": "3.9.5"
  }
 },
 "nbformat": 4,
 "nbformat_minor": 5
}
